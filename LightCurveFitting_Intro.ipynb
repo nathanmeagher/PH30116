{
 "cells": [
  {
   "cell_type": "markdown",
   "metadata": {},
   "source": [
    "# Introduction to Kepler science lightcurve"
   ]
  },
  {
   "cell_type": "markdown",
   "metadata": {},
   "source": [
    "### This Notebook will give you the tools to:\n",
    "\n",
    "$\\bullet$ open Kepler science lighcurves\n",
    "\n",
    "$\\bullet$ understand data structure in fits files\n",
    "\n",
    "$\\bullet$ understand basic features of data\n",
    "\n",
    "$\\bullet$ start with fitting your dataset\n",
    "\n",
    "### What you should achieve:\n",
    "\n",
    "$\\bullet$ plot and inspect data\n",
    "\n",
    "$\\bullet$ identify transits\n",
    "\n",
    "$\\bullet$ make a plan for modelling\n",
    "\n",
    "### What's next:\n",
    "after you have completed this notebook:\n",
    "\n",
    "$\\bullet$ perform detailed modelling of your data\n",
    "\n",
    "$\\bullet$ write up the summary of your modelling\n",
    "\n",
    "$\\bullet$ collect your results for the comparison with other datasets"
   ]
  },
  {
   "cell_type": "code",
   "execution_count": 1,
   "metadata": {},
   "outputs": [],
   "source": [
    "#Necessary imports\n",
    "from astropy.io import fits #used to open fits files in which data are stored\n",
    "import pylab #plotting\n",
    "import glob\n",
    "mykepler = '1' #add here the source number assigned to you, '1' or '2'"
   ]
  },
  {
   "cell_type": "markdown",
   "metadata": {},
   "source": [
    "First, we will have a look at the dataset, we have given you the fits dataset exactly as provided by Kepler, you can download additional datasets [on the Kepler archive](https://archive.stsci.edu/kepler/). We have though made the header anonymous so you cannot see which source you are working with. "
   ]
  },
  {
   "cell_type": "code",
   "execution_count": 3,
   "metadata": {},
   "outputs": [],
   "source": [
    "#Fits files are open like this:\n",
    "lc = fits.open('Data/Object%slc/kplr%s_1.fits'%(mykepler, mykepler))"
   ]
  },
  {
   "cell_type": "markdown",
   "metadata": {},
   "source": [
    "Fits files are common in astrophysics, they have different extensions, which can be images or tables. The information discribing the data is stored in the header."
   ]
  },
  {
   "cell_type": "code",
   "execution_count": null,
   "metadata": {},
   "outputs": [],
   "source": [
    "#The header for the first extension can be accesses like this:\n",
    "lc[0].header\n",
    "#It contains basic information about the object (some of those removed here)"
   ]
  },
  {
   "cell_type": "markdown",
   "metadata": {},
   "source": [
    "**You will see some of the header keywords to read 'None of your business', this is because we have anonymized the dataset for you. "
   ]
  },
  {
   "cell_type": "code",
   "execution_count": null,
   "metadata": {},
   "outputs": [],
   "source": [
    "#the data in the extension can be stored like this:\n",
    "lc[0].data\n",
    "#the first extension is empty, it just has the information\n"
   ]
  },
  {
   "cell_type": "code",
   "execution_count": null,
   "metadata": {},
   "outputs": [],
   "source": [
    "#The last extension holds a small image of the source:\n",
    "lc[2].header\n",
    "pylab.imshow(lc[2].data)"
   ]
  },
  {
   "cell_type": "code",
   "execution_count": null,
   "metadata": {},
   "outputs": [],
   "source": [
    "#lets have a look at the second extension\n",
    "lc[1]\n",
    "#This is a table extension"
   ]
  },
  {
   "cell_type": "code",
   "execution_count": null,
   "metadata": {},
   "outputs": [],
   "source": [
    "#Here the beginning has a description of columns in the table, including the units\n",
    "lc[1].header"
   ]
  },
  {
   "cell_type": "code",
   "execution_count": null,
   "metadata": {},
   "outputs": [],
   "source": [
    "#Lets plot the lightcurve, you can plot the time and flux:\n",
    "pylab.plot(lc[1].data['TIME'], lc[1].data['PDCSAP_FLUX'], ls='None', marker='o')\n",
    "#This plots the barycentre time and flux in e/s\n"
   ]
  },
  {
   "cell_type": "markdown",
   "metadata": {},
   "source": [
    "## Note: do not panic (or maybe do), this is only a small subset of the data you will be working with"
   ]
  },
  {
   "cell_type": "code",
   "execution_count": null,
   "metadata": {},
   "outputs": [],
   "source": [
    "#Measurements errors are also included, you can plot them as follows\n",
    "pylab.errorbar(lc[1].data['TIME'], lc[1].data['PDCSAP_FLUX'], lc[1].data['PDCSAP_FLUX_ERR'], ls='None', marker='o')\n",
    "#We'll need to zoom in to see them:\n",
    "pylab.xlim(300, 310)\n",
    "pylab.ylim(41500, 41700)"
   ]
  },
  {
   "cell_type": "markdown",
   "metadata": {},
   "source": [
    "## Your turn: First look at data - signal-to-noise\n",
    "\n",
    "$\\bullet$ calculate the signal to noise of your lightcurve. Compare it to your requested signal-to-noise. Compare it to your ground based measurements\n",
    "\n",
    "$\\bullet$ make notes about your lightcurve: you will be fitting this for planets, do you see any complications?"
   ]
  },
  {
   "cell_type": "code",
   "execution_count": null,
   "metadata": {},
   "outputs": [],
   "source": []
  },
  {
   "cell_type": "markdown",
   "metadata": {},
   "source": [
    "## Your turn: First look at data - What does your lightcurve look like?\n",
    "\n",
    "$\\bullet$ make notes about your lightcurve: you will be fitting this for planets, do you see any complications?"
   ]
  },
  {
   "cell_type": "code",
   "execution_count": null,
   "metadata": {},
   "outputs": [],
   "source": []
  },
  {
   "cell_type": "markdown",
   "metadata": {},
   "source": [
    "## Your turn: Preparing for fitting:\n",
    "\n",
    "$\\bullet$ locate all transits and make a plot for each"
   ]
  },
  {
   "cell_type": "code",
   "execution_count": null,
   "metadata": {},
   "outputs": [],
   "source": []
  },
  {
   "cell_type": "code",
   "execution_count": null,
   "metadata": {},
   "outputs": [],
   "source": [
    "## So far, we have only looked at a subset of the data, the full dataset is stored in the Data folder.\n",
    "glob.glob('Data/Object%slc/kplr*.fits'%(mykepler)) #Lists all your lightcurve files\n"
   ]
  },
  {
   "cell_type": "code",
   "execution_count": null,
   "metadata": {},
   "outputs": [],
   "source": []
  },
  {
   "cell_type": "code",
   "execution_count": null,
   "metadata": {},
   "outputs": [],
   "source": []
  },
  {
   "cell_type": "code",
   "execution_count": null,
   "metadata": {},
   "outputs": [],
   "source": []
  },
  {
   "cell_type": "markdown",
   "metadata": {},
   "source": [
    "## Your turn: plot the full lightcurve"
   ]
  },
  {
   "cell_type": "code",
   "execution_count": null,
   "metadata": {},
   "outputs": [],
   "source": [
    "#THis works....\n",
    "for lcfile in glob.glob('Data/Object%slc/kplr*.fits' %(mykepler)):\n",
    "    tmp = fits.open(lcfile)\n",
    "    tmptime = (tmp[1].data['TIME'])\n",
    "    tmpflux = (tmp[1].data['PDCSAP_FLUX'])\n",
    "    tmperror = (tmp[1].data['PDCSAP_FLUX_ERR'])\n",
    "    pylab.plot(tmptime, tmpflux, c='k')"
   ]
  },
  {
   "cell_type": "markdown",
   "metadata": {},
   "source": [
    "## Your turn: Planning for modelling - Make a plan\n",
    "\n",
    "$\\bullet$ Make a plan for modelling your lightcurve\n",
    "\n",
    "$\\bullet$ Which steps will you need to take? In what order? What tools will you need?\n",
    "\n",
    "$\\bullet$ It might be good to combine all your data into a single file."
   ]
  },
  {
   "cell_type": "code",
   "execution_count": null,
   "metadata": {},
   "outputs": [],
   "source": []
  },
  {
   "cell_type": "markdown",
   "metadata": {},
   "source": [
    "## Summary:\n",
    "\n",
    "After completing this notebook, you should have:\n",
    "\n",
    "- identified and inspected some individual transits\n",
    "- made a plan for modelling your data"
   ]
  },
  {
   "cell_type": "code",
   "execution_count": null,
   "metadata": {},
   "outputs": [],
   "source": []
  }
 ],
 "metadata": {
  "kernelspec": {
   "display_name": "Python 3.5",
   "language": "python",
   "name": "python3"
  },
  "language_info": {
   "codemirror_mode": {
    "name": "ipython",
    "version": 3
   },
   "file_extension": ".py",
   "mimetype": "text/x-python",
   "name": "python",
   "nbconvert_exporter": "python",
   "pygments_lexer": "ipython3",
   "version": "3.5.5"
  }
 },
 "nbformat": 4,
 "nbformat_minor": 2
}
